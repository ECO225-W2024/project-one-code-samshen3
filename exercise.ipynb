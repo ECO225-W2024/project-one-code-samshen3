{
 "cells": [
  {
   "cell_type": "code",
   "execution_count": null,
   "id": "f0bc3a7b",
   "metadata": {},
   "outputs": [],
   "source": [
    "import pandas as pd\n",
    "import numpy as np\n",
    "\n",
    "\n",
    "dataset_path = '2016 School Explorer.csv'\n",
    "df1 = pd.read_csv(dataset_path)\n",
    "\n",
    "dataset2_path = 'D5 SHSAT Registrations and Testers.csv'\n",
    "df2 = pd.read_csv(dataset2_path)\n",
    "\n",
    "df1 = df.drop_duplicates()\n",
    "df2 = df.drop_duplicates()\n",
    "\n",
    "\n",
    "df1 = df.dropna()\n",
    "df2 = df.dropna()\n",
    "\n",
    "df.to_csv('cleaned_dataset.csv', index=False)\n",
    "\n",
    "df = pd.DataFrame({'dataset_path': data1, 'dataset2_path': data2})\n",
    "\n",
    "summary_stats = pd.DataFrame({\n",
    "    'Mean': df.mean(),\n",
    "    'Std Dev': df.std(),\n",
    "    'Min': df.min(),\n",
    "    'Max': df.max()\n",
    "})\n",
    "\n",
    "print(summary_stats)"
   ]
  }
 ],
 "metadata": {
  "kernelspec": {
   "display_name": "Python 3 (ipykernel)",
   "language": "python",
   "name": "python3"
  },
  "language_info": {
   "codemirror_mode": {
    "name": "ipython",
    "version": 3
   },
   "file_extension": ".py",
   "mimetype": "text/x-python",
   "name": "python",
   "nbconvert_exporter": "python",
   "pygments_lexer": "ipython3",
   "version": "3.11.6"
  }
 },
 "nbformat": 4,
 "nbformat_minor": 5
}
