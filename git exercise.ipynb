import pandas as pd

dataset_path = '2016 School Explorer.csv'
df1 = pd.read_csv(dataset_path)

dataset2_path = 'D5 SHSAT Registrations and Testers.csv'
df2 = pd.read_csv(dataset2_path)

df1 = df.drop_duplicates()
df2 = df.drop_duplicates()


df1 = df.dropna()
df2 = df.dropna()

df.to_csv('cleaned_dataset.csv', index=False)